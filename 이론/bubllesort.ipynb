{
 "cells": [
  {
   "cell_type": "markdown",
   "metadata": {},
   "source": [
    "# bubble sort\n",
    "### 이 알고리즘의 기본 원리는 인접한 두 원소를 비교하여, 잘못된 순서(예: 오름차순 정렬에서 더 큰 값이 앞에 오는 경우)가 있을 때마다 그 두 원소의 위치를 바꾸는 것입니다. 이 과정을 배열의 모든 요소가 올바른 순서로 정렬될 때까지 반복합니다."
   ]
  },
  {
   "cell_type": "markdown",
   "metadata": {},
   "source": [
    "## 버블 정렬 과정\n",
    "1. 배열의 첫 번째 요소부터 시작하여, 인접한 요소와 비교합니다. 첫 번째 요소가 두 번째 요소보다 크면, 두 요소의 위치를 바꿉니다.\n",
    "2. 다음 인접한 요소로 이동하여 같은 비교 및 교환 과정을 반복합니다.\n",
    "3. 배열의 마지막에 도달할 때까지 이 과정을 계속합니다. 이때 마지막 요소는 배열에서 가장 큰 요소가 됩니다.\n",
    "4. 배열의 크기를 하나 줄이고, 위의 과정을 배열의 모든 요소가 정렬될 때까지 반복합니다."
   ]
  },
  {
   "cell_type": "markdown",
   "metadata": {},
   "source": [
    "## 특징\n",
    " - 시간 복잡도: 최악, 평균, 최선 모두 O(n^2) 입니다. n은 배열의 길이입니다.\n",
    " - 공간 복잡도: O(1) - 추가적인 메모리를 거의 사용하지 않습니다.\n",
    " - 안정성: 안정적인 정렬 방법입니다. 동일한 값을 가진 요소의 상대적인 순서가 변경되지 않습니다.\n",
    " - 적용: 버블 정렬은 구현이 매우 간단하지만 비효율적이므로, 실제로는 작은 배열에 대한 정렬이나 교육적 목적으로 주로 사용됩니다."
   ]
  },
  {
   "cell_type": "code",
   "execution_count": 1,
   "metadata": {},
   "outputs": [
    {
     "name": "stdout",
     "output_type": "stream",
     "text": [
      "[2, 3, 4, 5, 8]\n"
     ]
    }
   ],
   "source": [
    "# 예시\n",
    "def bubble_sort(arr):\n",
    "    n = len(arr)\n",
    "    for i in range(n):\n",
    "        # 마지막 i개는 이미 정렬되었으므로 n-i-1까지 확인\n",
    "        for j in range(0, n-i-1):\n",
    "            # 인접한 두 요소를 비교하고, 필요하다면 교환\n",
    "            if arr[j] > arr[j+1]:\n",
    "                arr[j], arr[j+1] = arr[j+1], arr[j]\n",
    "    return arr\n",
    "\n",
    "# 예제 배열\n",
    "arr = [5, 3, 8, 4, 2]\n",
    "\n",
    "# 버블 정렬 실행\n",
    "bubble_sort(arr)\n",
    "\n",
    "# 정렬된 배열 출력\n",
    "print(arr)\n"
   ]
  }
 ],
 "metadata": {
  "kernelspec": {
   "display_name": "Python 3",
   "language": "python",
   "name": "python3"
  },
  "language_info": {
   "codemirror_mode": {
    "name": "ipython",
    "version": 3
   },
   "file_extension": ".py",
   "mimetype": "text/x-python",
   "name": "python",
   "nbconvert_exporter": "python",
   "pygments_lexer": "ipython3",
   "version": "3.9.5"
  }
 },
 "nbformat": 4,
 "nbformat_minor": 2
}
