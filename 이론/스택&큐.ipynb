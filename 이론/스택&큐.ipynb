{
 "cells": [
  {
   "cell_type": "markdown",
   "source": [
    "## 연결 리스트를 이용한 스택 ADT 구현"
   ],
   "metadata": {
    "collapsed": false,
    "pycharm": {
     "name": "#%% md\n"
    }
   }
  },
  {
   "cell_type": "code",
   "execution_count": 3,
   "outputs": [],
   "source": [
    "class Node:\n",
    "    def __init__(self, item, next):\n",
    "        self.item = item\n",
    "        self.next = next\n"
   ],
   "metadata": {
    "collapsed": false,
    "pycharm": {
     "name": "#%%\n"
    }
   }
  },
  {
   "cell_type": "code",
   "execution_count": 4,
   "outputs": [],
   "source": [
    "class Stack:\n",
    "    def __init__(self):\n",
    "        self.last = None\n",
    "\n",
    "    def push(self, item):\n",
    "        self.last = Node(item, self.last)\n",
    "\n",
    "    def pop(self):\n",
    "        item = self.last.item\n",
    "        self.last = self.last.next\n",
    "        return item\n",
    "\n",
    "    def get_all_items(self):\n",
    "        items = []\n",
    "        current = self.last\n",
    "        while current:\n",
    "            items.append(current.item)\n",
    "            current = current.next\n",
    "        return items"
   ],
   "metadata": {
    "collapsed": false,
    "pycharm": {
     "name": "#%%\n"
    }
   }
  },
  {
   "cell_type": "code",
   "execution_count": 5,
   "outputs": [
    {
     "data": {
      "text/plain": "[5, 4, 3, 2, 1]"
     },
     "execution_count": 5,
     "metadata": {},
     "output_type": "execute_result"
    }
   ],
   "source": [
    "stack = Stack()\n",
    "stack.push(1)\n",
    "stack.push(2)\n",
    "stack.push(3)\n",
    "stack.push(4)\n",
    "stack.push(5)\n",
    "stack.get_all_items()"
   ],
   "metadata": {
    "collapsed": false,
    "pycharm": {
     "name": "#%%\n"
    }
   }
  },
  {
   "cell_type": "code",
   "execution_count": 6,
   "outputs": [
    {
     "name": "stdout",
     "output_type": "stream",
     "text": [
      "5\n",
      "4\n",
      "3\n",
      "2\n",
      "1\n"
     ]
    }
   ],
   "source": [
    "for _ in range(5):\n",
    "    print(stack.pop())"
   ],
   "metadata": {
    "collapsed": false,
    "pycharm": {
     "name": "#%%\n"
    }
   }
  },
  {
   "cell_type": "markdown",
   "source": [
    "## 스택 일치 여부"
   ],
   "metadata": {
    "collapsed": false,
    "pycharm": {
     "name": "#%% md\n"
    }
   }
  },
  {
   "cell_type": "code",
   "execution_count": null,
   "outputs": [],
   "source": [
    "def isValid(self, s:str) -> bool:\n",
    "    stack = []\n",
    "    table = {\n",
    "        ')' : '(',\n",
    "        '}' : '{',\n",
    "        ']' : '['\n",
    "    }\n",
    "    # 스택 이용 예외 처리 및 일치 여부 판별\n",
    "    for char in s:\n",
    "        if char not in table:\n",
    "            stack.append(char)\n",
    "        elif  not stack or table[char] != stack.pop():\n",
    "            return False\n",
    "        return len(stack) == 0\n"
   ],
   "metadata": {
    "collapsed": false,
    "pycharm": {
     "name": "#%%\n"
    }
   }
  },
  {
   "cell_type": "markdown",
   "source": [
    "## 중복문자 제거"
   ],
   "metadata": {
    "collapsed": false,
    "pycharm": {
     "name": "#%% md\n"
    }
   }
  },
  {
   "cell_type": "code",
   "execution_count": 12,
   "outputs": [
    {
     "name": "stderr",
     "output_type": "stream",
     "text": [
      "pydev debugger: Unable to find real location for: C:\\Users\\JunWoo\\AppData\\Local\\Temp\\ipykernel_18420\\371069259.py\n"
     ]
    }
   ],
   "source": [
    "import collections\n",
    "\n",
    "def removeDuplicateLetters (s: str) -> str:\n",
    "    counter, stack = collections.Counter(s), []\n",
    "    for char in s:\n",
    "        counter[char] -= 1\n",
    "        if char in stack:\n",
    "            continue\n",
    "        #뒤에 붙일 문자가 남아 있다면 스택에서 제거\n",
    "        while stack and char< stack [-1] and counter [stack [-1]]> 0:\n",
    "            stack.pop()\n",
    "        stack.append(char)\n",
    "    return ''.join(stack)"
   ],
   "metadata": {
    "collapsed": false,
    "pycharm": {
     "name": "#%%\n"
    }
   }
  },
  {
   "cell_type": "code",
   "execution_count": 11,
   "outputs": [
    {
     "name": "stderr",
     "output_type": "stream",
     "text": [
      "pydev debugger: Unable to find real location for: <string>\n",
      "pydev debugger: Unable to find real location for: <frozen _collections_abc>\n",
      "pydev debugger: Unable to find real location for: <frozen os>\n",
      "pydev debugger: Unable to find real location for: C:\\Users\\JunWoo\\AppData\\Local\\Temp\\ipykernel_18420\\435834381.py\n",
      "pydev debugger: Unable to find real location for: C:\\Users\\JunWoo\\AppData\\Local\\Temp\\ipykernel_18420\\882293288.py\n"
     ]
    },
    {
     "data": {
      "text/plain": "'abc'"
     },
     "execution_count": 11,
     "metadata": {},
     "output_type": "execute_result"
    }
   ],
   "source": [
    "removeDuplicateLetters('bcabc')"
   ],
   "metadata": {
    "collapsed": false,
    "pycharm": {
     "name": "#%%\n"
    }
   }
  },
  {
   "cell_type": "markdown",
   "source": [
    "### 일일 온도\n",
    "    매일 화씨 온도 리스트 T를 입력받아서, 더 따듯한 날씨를 위해서는 며칠을 더 기다려야하는지 출력하라.\n",
    "    입력 T = [73,74,75,71,69, 72, 76, 73]\n",
    "    출력 [1,1,4,2,1,1,0,0]\n"
   ],
   "metadata": {
    "collapsed": false,
    "pycharm": {
     "name": "#%% md\n"
    }
   }
  },
  {
   "cell_type": "markdown",
   "source": [],
   "metadata": {
    "collapsed": false,
    "pycharm": {
     "name": "#%% md\n"
    }
   }
  },
  {
   "cell_type": "code",
   "execution_count": 1,
   "outputs": [],
   "source": [
    "def dailyTemperatures(T: list[int]) -> list[int]:\n",
    "    answer = [0] * len(T)\n",
    "    stack = []\n",
    "    for i, cur in enumerate(T):\n",
    "        # 현재 온도가 스택 값보다 높다면 정답 처리\n",
    "        while stack and cur > T[stack[-1]]:\n",
    "            last = stack.pop()\n",
    "            answer[last] = i - last\n",
    "        stack.append(i)\n",
    "    return answer"
   ],
   "metadata": {
    "collapsed": false,
    "pycharm": {
     "name": "#%%\n"
    }
   }
  },
  {
   "cell_type": "markdown",
   "source": [
    "# Queue"
   ],
   "metadata": {
    "collapsed": false,
    "pycharm": {
     "name": "#%% md\n"
    }
   }
  },
  {
   "cell_type": "markdown",
   "source": [
    "### 큐를 이용한 스택 구현"
   ],
   "metadata": {
    "collapsed": false,
    "pycharm": {
     "name": "#%% md\n"
    }
   }
  },
  {
   "cell_type": "code",
   "execution_count": 20,
   "outputs": [],
   "source": [
    "class MyStack:\n",
    "    def __init__(self):\n",
    "        self.q = collections.deque()\n",
    "    def push(self, x):\n",
    "        self.q.append(x)\n",
    "        # 요소 삽입 후 맨 앞에 두는 상태로 재정렬\n",
    "        for _ in range(len(self.q) - 1):\n",
    "            print(self.q)\n",
    "            self.q.append(self.q.popleft())\n",
    "            print(self.q)\n",
    "    def pop(self):\n",
    "        return self.q.popleft()\n",
    "\n",
    "    def top(self):\n",
    "        return self.q.popleft()\n",
    "\n",
    "    def empty(self):\n",
    "        return len(self.q) == 0"
   ],
   "metadata": {
    "collapsed": false,
    "pycharm": {
     "name": "#%%\n"
    }
   }
  },
  {
   "cell_type": "code",
   "execution_count": 21,
   "outputs": [
    {
     "name": "stdout",
     "output_type": "stream",
     "text": [
      "deque([1, 2])\n",
      "deque([2, 1])\n",
      "deque([2, 1, 3])\n",
      "deque([1, 3, 2])\n",
      "deque([1, 3, 2])\n",
      "deque([3, 2, 1])\n",
      "deque([3, 2, 1, 4])\n",
      "deque([2, 1, 4, 3])\n",
      "deque([2, 1, 4, 3])\n",
      "deque([1, 4, 3, 2])\n",
      "deque([1, 4, 3, 2])\n",
      "deque([4, 3, 2, 1])\n",
      "deque([4, 3, 2, 1, 5])\n",
      "deque([3, 2, 1, 5, 4])\n",
      "deque([3, 2, 1, 5, 4])\n",
      "deque([2, 1, 5, 4, 3])\n",
      "deque([2, 1, 5, 4, 3])\n",
      "deque([1, 5, 4, 3, 2])\n",
      "deque([1, 5, 4, 3, 2])\n",
      "deque([5, 4, 3, 2, 1])\n"
     ]
    }
   ],
   "source": [
    "stack = MyStack()\n",
    "stack.push(1)\n",
    "stack.push(2)\n",
    "stack.push(3)\n",
    "stack.push(4)\n",
    "stack.push(5)"
   ],
   "metadata": {
    "collapsed": false,
    "pycharm": {
     "name": "#%%\n"
    }
   }
  },
  {
   "cell_type": "code",
   "execution_count": 15,
   "outputs": [
    {
     "name": "stdout",
     "output_type": "stream",
     "text": [
      "5\n",
      "4\n",
      "3\n",
      "2\n",
      "1\n"
     ]
    }
   ],
   "source": [
    "for _ in range(5):\n",
    "    print(stack.pop())"
   ],
   "metadata": {
    "collapsed": false,
    "pycharm": {
     "name": "#%%\n"
    }
   }
  },
  {
   "cell_type": "markdown",
   "source": [
    "### 스택을 이용한 큐 구현"
   ],
   "metadata": {
    "collapsed": false,
    "pycharm": {
     "name": "#%% md\n"
    }
   }
  },
  {
   "cell_type": "code",
   "execution_count": null,
   "outputs": [],
   "source": [],
   "metadata": {
    "collapsed": false,
    "pycharm": {
     "name": "#%%\n"
    }
   }
  }
 ],
 "metadata": {
  "kernelspec": {
   "display_name": "Python 3",
   "language": "python",
   "name": "python3"
  },
  "language_info": {
   "codemirror_mode": {
    "name": "ipython",
    "version": 2
   },
   "file_extension": ".py",
   "mimetype": "text/x-python",
   "name": "python",
   "nbconvert_exporter": "python",
   "pygments_lexer": "ipython2",
   "version": "2.7.6"
  }
 },
 "nbformat": 4,
 "nbformat_minor": 0
}