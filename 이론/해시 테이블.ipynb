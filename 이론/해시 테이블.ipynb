{
 "cells": [
  {
   "cell_type": "code",
   "execution_count": null,
   "metadata": {
    "collapsed": true,
    "pycharm": {
     "name": "#%%\n"
    }
   },
   "outputs": [],
   "source": []
  },
  {
   "cell_type": "markdown",
   "source": [
    "# 해시 테이블\n",
    "\n",
    "<aside>\n",
    " 해시 테이블 또는 해시 맵은 키를 값에 매핑할 수 있는 구조인, 연관 배열 추상 자료형(ADT)을 구현하는 자료구조이다. **해시 테이블의 가장 큰 장점은 연산이 분할 상환 분석에 따른 시간 복잡도가 O(1) 이라는 점이다. 즉, 데이터 양에 관계 없이 빠른 성능을 기대 할 수 있다.**\n",
    "\n",
    "</aside>\n",
    "\n",
    "해시 테이블은 키를 값에 연결하는 데이터 구조다. 이를 통해 데이터를 빠르게 검색, 삽입, 삭제 할 수 있다. 해시 테이블의 기본 원리는 해시 함수를 사용하여 각 키를 해시 테이블 내의 인덱스로 변환 시킨다. 이때 인덱스는 데이터가 저장되는 위치를 가르킨다.\n",
    "\n",
    "# 해시\n",
    "\n",
    "---\n",
    "\n",
    "<aside>\n",
    " 해시 함수란 임의 크기 데이터를 고정 크기 값으로 매핑하는 데 사용할 수 있는 함수를 말한다.\n",
    "\n",
    "</aside>\n",
    "\n",
    "해시 테이블의 핵심은 해시 함수다. 입력값이 각각 ABC, QWER123, 가나다f5 와 같이 되있을 때 특정 함수를 사용하여 2byte 의 고정 크기 값으로 매핑하게 해주는 함수를 해시 함수라 한다.\n",
    "\n",
    "$$\n",
    "ABC \\frac{→}{f(hash)} A1 \\\\\n",
    "QWER123 \\frac{→}{f(hash)} B3 \\\\\n",
    "가나다f5 \\frac{→}{f(hash)} D1\n",
    "$$\n",
    "\n",
    "해시 테이블을 인덱싱 하기 위해 이처럼 해시 함수를 사용하는 것을 해싱이라 하며, 해싱은 정보를 가능한 빠르게 저장하고 검색하기 위해 사용하는 중요한 기법 중 하나이다.\n",
    "\n",
    "해싱은 최적의 검색이 필요한 분야에 사용되며, 심볼 테이블등의 자료구조를 구현하기에도 적합하다. 이외에도 해시 함수는 체크섬, 손실 압축, 무작위화 함수, 암호 등과도 관련이 깊으며 때로는 서로 혼용되기도 한다.\n",
    "\n",
    "해시 함수는 일반적으로 다양한 키를 균일하게 해시 테이블의 주소 공간에 분포시키도록 설계된다. 하지만 두 개 이상의 키가 동일한 인덱스로 해시될 수 있는 '충돌(Collision)'이 발생한다. 이러한 충돌을 해결하기 위해 체이닝(Chaining)과 오픈 어드레싱(Open Addressing)이 대표적으로 있다.\n",
    "\n",
    "체이닝 방식에서는 같은 인덱스에 여러 값이 매핑될 경우, 이 값들을 연결 리스트로 관리한다. 반면 오픈 어드레싱 방식에서는 충돌이 발생하면 다른 인덱스를 찾아 값을 저장한다.\n",
    "\n",
    "해시 테이블은 평균적으로 상수 시간(O(1))의 빠른 접근 속도를 제공하지만, 최악의 경우에는 모든 키가 동일한 인덱스로 해시될 때 선형 시간(O(n))이 걸릴 수 있다. 따라서 효율적인 해시 함수의 선택과 충돌 해결 방법이 중요하다.\n",
    "\n",
    "### 이상적인 해시 함수 특징\n",
    "\n",
    "- 해시 함수 값 충돌의 최소화\n",
    "- 쉽고 빠른 연산\n",
    "- 해시 테이블 전체에 해시 값이 균일하게 분포\n",
    "- 사용할 키의 모든 저보를이용하여 해싱\n",
    "\n",
    "## 예시 문제\n",
    "\n",
    "- 생일문제\n",
    "- 비둘기집 원리\n",
    "\n",
    "## 생일문제\n",
    "\n",
    "**충돌**은 생각보다 쉽게 일어난다. 생일 문제가 그 예시이다. 생일의 가짓수는 365개 이므로 사람이 모였을 때 같은 생일이 존재 할 확률은 얼핏 생각해보면 366명 이상이 모여야 된다고 생각한다. 하지만 실제로 23명만 모여도 50%를 넘고, 57명이 모이면 그때부터는 99% 가 넘게 된다.\n",
    "\n",
    "코드로 이를 확인해보면 다음과 같다."
   ],
   "metadata": {
    "collapsed": false,
    "pycharm": {
     "name": "#%% md\n"
    }
   }
  },
  {
   "cell_type": "code",
   "execution_count": 4,
   "outputs": [
    {
     "name": "stdout",
     "output_type": "stream",
     "text": [
      "97.073%\n"
     ]
    }
   ],
   "source": [
    "import random\n",
    "\n",
    "TRIALS = 100000 # 10만 번 실험\n",
    "same_birthdays = 0 # 생일이 같은 실험의 수\n",
    "n = 50  # 모인 사람 수\n",
    "# 10만 번 실험 진행\n",
    "for _ in range(TRIALS):\n",
    "    birthdays = []\n",
    "    # n명이 모였을 때, 생일이 같을 경우 same_birthdays += 1\n",
    "    for i in range(n):\n",
    "        birthday = random.randint(1, 365)\n",
    "        if birthday in birthdays:\n",
    "            same_birthdays += 1\n",
    "            break\n",
    "        birthdays.append(birthday)\n",
    "\n",
    "# 전체 10만 번 실험 중 생일이 같은 실험의 확률\n",
    "print(f'{same_birthdays / TRIALS * 100}%')"
   ],
   "metadata": {
    "collapsed": false,
    "pycharm": {
     "name": "#%%\n"
    }
   }
  }
 ],
 "metadata": {
  "kernelspec": {
   "display_name": "Python 3",
   "language": "python",
   "name": "python3"
  },
  "language_info": {
   "codemirror_mode": {
    "name": "ipython",
    "version": 2
   },
   "file_extension": ".py",
   "mimetype": "text/x-python",
   "name": "python",
   "nbconvert_exporter": "python",
   "pygments_lexer": "ipython2",
   "version": "2.7.6"
  }
 },
 "nbformat": 4,
 "nbformat_minor": 0
}