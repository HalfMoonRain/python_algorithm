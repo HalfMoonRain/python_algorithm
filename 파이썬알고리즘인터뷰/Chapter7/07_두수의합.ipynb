{
 "cells": [
  {
   "attachments": {},
   "cell_type": "markdown",
   "metadata": {},
   "source": [
    "# 리트코드 \n",
    "# 덧셈하여 타겟을 만들 수 있는 배열의 두 숫자 인덱스를 리턴하라.\n",
    "\n",
    "### 입력\n",
    "nums = [2, 7, 11, 15], target = 9\n",
    "### 출력\n",
    "[0,1]\n",
    "\n",
    "## 해당 문제는 다양한 풀이가 존재한다."
   ]
  },
  {
   "cell_type": "code",
   "execution_count": 17,
   "metadata": {},
   "outputs": [],
   "source": [
    "nums = [7, 11, 2, 1]\n",
    "target = 9"
   ]
  },
  {
   "attachments": {},
   "cell_type": "markdown",
   "metadata": {},
   "source": [
    "# 풀이 1\n",
    "## 브루트 포스로 계산\n",
    "배열을 2번 반복하면서 모든 조합을 더해서 일일이 확인해보는 무차별 대입 방식인 브루트 포스로 풀 수 있다."
   ]
  },
  {
   "cell_type": "code",
   "execution_count": 2,
   "metadata": {},
   "outputs": [
    {
     "name": "stdout",
     "output_type": "stream",
     "text": [
      "[0, 1]\n"
     ]
    }
   ],
   "source": [
    "def twoSum(nums: list[int], target:int)->list[int]:\n",
    "    for i in range(len(nums)):\n",
    "        for j in range(i+1, len(nums)):\n",
    "            if nums[i] + nums[j] == target:\n",
    "                return [i, j]\n",
    "\n",
    "print(twoSum(nums, target))"
   ]
  },
  {
   "attachments": {},
   "cell_type": "markdown",
   "metadata": {},
   "source": [
    "# 풀이 2\n",
    "## in 을 이용한 탐색\n",
    "모든 조합을 비교하지 않고 정답, 즉 타겟에서 첫 번째 값을 뺀 값 target - n이 존재하는지 탐색하는 문제로 변경한다."
   ]
  },
  {
   "cell_type": "code",
   "execution_count": 6,
   "metadata": {},
   "outputs": [
    {
     "name": "stdout",
     "output_type": "stream",
     "text": [
      "[0, 1]\n"
     ]
    }
   ],
   "source": [
    "def twoSum(nums: list[int], target: int)-> list[int]:\n",
    "    for i, n in enumerate(nums):\n",
    "        complement = target - n\n",
    "        if complement in nums[i+1:]:\n",
    "            return [nums.index(n), nums[i+1:].index(complement) + (i+1)]\n",
    "\n",
    "print(twoSum(nums, target))\n"
   ]
  },
  {
   "attachments": {},
   "cell_type": "markdown",
   "metadata": {},
   "source": [
    "# 풀이3\n",
    "## 첫번째 수를 뺀 결과 키 조회\n",
    "타켓에서 첫번째 수를 뺴면 두 번째 수를 바로 알아낼 수 있다. 두 번쨰 수를 키로 하고 기존의 인덱스는 값으로 바꿔서 딕셔너리로 저장해두면, 나중에 두 번째 수를 키로 조회해서 정답을 즉시 찾아낼 수 있을 것이다."
   ]
  },
  {
   "cell_type": "code",
   "execution_count": 7,
   "metadata": {},
   "outputs": [
    {
     "data": {
      "text/plain": [
       "[0, 1]"
      ]
     },
     "execution_count": 7,
     "metadata": {},
     "output_type": "execute_result"
    }
   ],
   "source": [
    "def twoSum(nums: list[int], target: int)-> list[int]:\n",
    "    nums_map = {}\n",
    "    # 키와 값을 바꿔서 딕셔너리로 저장.\n",
    "    for i, num in enumerate(nums):\n",
    "        nums_map[num] = i\n",
    "    \n",
    "    # 타겟에서 첫 번째 수를 밴 결과를 키로 조회\n",
    "    for i, num in enumerate(nums):\n",
    "        if target - num in nums_map and i != nums_map[target - num]:\n",
    "            return [nums.index(num), nums_map[target - num]]\n",
    "        \n",
    "twoSum(nums, target)"
   ]
  },
  {
   "attachments": {},
   "cell_type": "markdown",
   "metadata": {},
   "source": [
    "# 풀이 4\n",
    "## 조회 구조 개선\n",
    "2개의 for문으로 저장과 조회를 처리했던 방식을 개선해서 하나의 for문으로 합쳐 보았다."
   ]
  },
  {
   "cell_type": "code",
   "execution_count": 12,
   "metadata": {},
   "outputs": [
    {
     "name": "stdout",
     "output_type": "stream",
     "text": [
      "nums_map {7: 0}\n",
      "i 0\n",
      "num 7\n",
      "nums_map {7: 0, 11: 1}\n",
      "i 1\n",
      "num 11\n",
      "nums_map {7: 0, 11: 1, 15: 2}\n",
      "i 2\n",
      "num 15\n",
      "[0, 3]\n"
     ]
    }
   ],
   "source": [
    "def twoSum(nums: list[int], target: int)-> list[int]:\n",
    "    nums_map = {}\n",
    "    # 하나의 for문으로 통합\n",
    "    for i , num in enumerate(nums):\n",
    "        if target - num in nums_map:\n",
    "            return [nums_map[target-num], i]\n",
    "        nums_map[num] = i\n",
    "        print('nums_map', nums_map)\n",
    "        print('i', i)\n",
    "        print('num', num)\n",
    "\n",
    "print(twoSum(nums, target))\n"
   ]
  },
  {
   "attachments": {},
   "cell_type": "markdown",
   "metadata": {},
   "source": [
    "# 투포인터 이용\n",
    "이 풀이에는 문제가 있다. 숫자가 정렬된 상태가 아니기 떄문에 원하는 값이 나오지 않을수도 있다.\n",
    "그렇다고 sort를 하기에는 순서가 꼬이기 떄문에 또 다른 문제가 발생한다.\n",
    "즉, 이 문제에 한해서 투포인터는 좋은 해결책이 아니다."
   ]
  },
  {
   "cell_type": "code",
   "execution_count": 20,
   "metadata": {},
   "outputs": [
    {
     "name": "stdout",
     "output_type": "stream",
     "text": [
      "None\n"
     ]
    }
   ],
   "source": [
    "def twoSum(nums: list[int], target: int)->list[int]:\n",
    "    left, right = 0, len(nums) - 1\n",
    "    while not left == right:\n",
    "        # 합이 타겟보다 크면 오른쪽 포인터를 왼쪽으로\n",
    "        if nums[left] + nums[right] < target:\n",
    "            left += 1\n",
    "        # 합이 타겟보다 작으면 왼쪽 포인터를 오른쪽으로\n",
    "        elif nums[left] + nums[right] > target:\n",
    "            right -= 1\n",
    "        else:\n",
    "            return [left, right]\n",
    "\n",
    "print(twoSum(nums, target))"
   ]
  }
 ],
 "metadata": {
  "kernelspec": {
   "display_name": "study",
   "language": "python",
   "name": "python3"
  },
  "language_info": {
   "codemirror_mode": {
    "name": "ipython",
    "version": 3
   },
   "file_extension": ".py",
   "mimetype": "text/x-python",
   "name": "python",
   "nbconvert_exporter": "python",
   "pygments_lexer": "ipython3",
   "version": "3.9.12"
  },
  "orig_nbformat": 4
 },
 "nbformat": 4,
 "nbformat_minor": 2
}
