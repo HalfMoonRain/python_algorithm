{
 "cells": [
  {
   "cell_type": "code",
   "execution_count": 2,
   "metadata": {},
   "outputs": [
    {
     "name": "stdout",
     "output_type": "stream",
     "text": [
      "ball\n"
     ]
    }
   ],
   "source": [
    "\"\"\"\n",
    "문제 : 금지된 단어를 제외한 가장 흔하게 등장하는 단어를 출력하라. 대소문자 구분을 하지 않으며, 구두점(마침표, 쉼표 등) 또한 무시한다.\n",
    "\n",
    "입력 :\n",
    "    paragraph = \"Bob hit a ball, the hit BALL flew far after it was hit\"\n",
    "    banned = [\"hit\"]\n",
    "\n",
    "출력 :\n",
    "    \"ball\"\n",
    "\"\"\""
   ]
  },
  {
   "cell_type": "code",
   "execution_count": 5,
   "metadata": {},
   "outputs": [],
   "source": [
    "\n",
    "# 대소문자 뿐만 아니라 쉼표 등 구두점이 존재한다.\n",
    "# 따라서 데이터 클랜징이라 부르는 입력값에 대한 전처리 작업이 필요하다.\n",
    "# 정규식을 사용 할 경우 더 편하게 작업을 할 수 있다.\n",
    "import collections\n",
    "import re\n",
    "\n",
    "paragraph = \"Bob hit a ball, the hit BALL flew far after it was hit\"\n",
    "banned = [\"hit\"]"
   ]
  },
  {
   "cell_type": "code",
   "execution_count": 7,
   "metadata": {},
   "outputs": [],
   "source": [
    "# 데이터 전처리 과정 \n",
    "\n",
    "'''\n",
    "정규식에서\n",
    "\\w : 단어 문자\n",
    "^ : not\n",
    "\n",
    "re.sub 는 문자 치환.\n",
    "'''\n",
    "\n",
    "words = [word for word in re.sub(\n",
    "    r'[^\\w]', ' ', paragraph).lower().split() if word not in banned]"
   ]
  },
  {
   "cell_type": "code",
   "execution_count": null,
   "metadata": {},
   "outputs": [
    {
     "name": "stdout",
     "output_type": "stream",
     "text": [
      "ball\n"
     ]
    }
   ],
   "source": [
    "\n",
    "# 개수를 담아두는 변수는 딕셔너리를 사용하며, defaultdict()를 사용해 int값이 자동으로 부여되게 했다.\n",
    "counts = collections.defaultdict(int)\n",
    "for word in words:\n",
    "    counts[word] += 1\n",
    "\n",
    "print(max(counts, key=counts.get))\n"
   ]
  },
  {
   "cell_type": "code",
   "execution_count": null,
   "metadata": {},
   "outputs": [],
   "source": [
    "# 다음코드에서는 words에서 가장 흔하게 등장하는 단어의 첫 번째 값을 most_common(1) 으로 추출한다. \n",
    "# 문제의 입력값에서는 [('ball', 2)] 가 되며 이 값의 [0][0]을 추출해서 최종 값을 추출 하게 된다.\n",
    "\n",
    "counts = collections.Counter(words)\n",
    "counts.most_common(1)[0][0]\n"
   ]
  },
  {
   "cell_type": "code",
   "execution_count": null,
   "metadata": {},
   "outputs": [],
   "source": [
    "# 코드를 최종적으로 정리하면 다음과 같다.\n",
    "def mostCommonWord(self, paragraph: str, banned: list[str]) ->str:\n",
    "    words = [word for word in re.sub(r'[^\\w]', ' ', paragraph).lower().split() if word not in banned]\n",
    "    counts = collections.Counter(words)\n",
    "    return counts.most_common(1)[0][0]"
   ]
  }
 ],
 "metadata": {
  "kernelspec": {
   "display_name": "Python 3",
   "language": "python",
   "name": "python3"
  },
  "language_info": {
   "codemirror_mode": {
    "name": "ipython",
    "version": 3
   },
   "file_extension": ".py",
   "mimetype": "text/x-python",
   "name": "python",
   "nbconvert_exporter": "python",
   "pygments_lexer": "ipython3",
   "version": "3.9.12"
  },
  "orig_nbformat": 4
 },
 "nbformat": 4,
 "nbformat_minor": 2
}
