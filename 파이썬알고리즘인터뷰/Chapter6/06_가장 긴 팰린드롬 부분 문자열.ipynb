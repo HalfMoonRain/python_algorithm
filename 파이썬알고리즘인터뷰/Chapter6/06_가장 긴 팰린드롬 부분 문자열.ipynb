{
 "cells": [
  {
   "attachments": {},
   "cell_type": "markdown",
   "metadata": {},
   "source": [
    "# 가장 긴 팰린드롬 부분 문자열\n",
    "## 가장 긴 팰린드롬 부분 문자열을 출력하라\n",
    "### 예제 1\n",
    "입력 : babad\n",
    "출력 : bab 또는 aba\n",
    "\n",
    "### 예제 2\n",
    "입력 cbbd\n",
    "출력 bb"
   ]
  },
  {
   "attachments": {},
   "cell_type": "markdown",
   "metadata": {},
   "source": [
    "## 풀이 1 중앙을 중심으로 확장하는 풀이\n",
    "다이나믹 프로그래밍으로 풀 수 있다. 그러나 다이나믹 프로그래밍을 이용한 풀이는 직관적으로 이해가 어렵고, 실행 속도가 늦다.\n",
    "따라서 투 포인터가 중앙을 중심으로 확장하는 형태로 풀이를 해본다.\n"
   ]
  },
  {
   "cell_type": "code",
   "execution_count": 3,
   "metadata": {},
   "outputs": [
    {
     "name": "stdout",
     "output_type": "stream",
     "text": [
      "123454321\n"
     ]
    }
   ],
   "source": [
    "# 예외처리\n",
    "s = '123454321'\n",
    "if len(s) < 2 or s ==s[::-1]:\n",
    "  print(s)\n"
   ]
  },
  {
   "cell_type": "code",
   "execution_count": null,
   "metadata": {},
   "outputs": [],
   "source": [
    "# 슬라이딩 윈도우가 다음과 같이 문자열 처음부터 끝까지 우측으로 이동한다.\n",
    "# for i in range(0, len(s) - 1):\n",
    "#     result = max(\n",
    "#         result, \n",
    "#         expand(s, i, i+1),\n",
    "#         expand(s, i, i+2),\n",
    "#         key=len\n",
    "#     )\n",
    "\n",
    "# expand() 로 정의한 중첩함수에서 홀수, 짝수 2개의 투 포인터가 팰린드롬 여부를 판별하면서 슬라이딩 윈도우처럼 계속 우측으로 이동한다.\n",
    "# 이렇게 판별한 최대값이 최종 결과가 된다. "
   ]
  },
  {
   "cell_type": "code",
   "execution_count": null,
   "metadata": {},
   "outputs": [],
   "source": [
    "def longestPalinrome(s: str) -> str:\n",
    "    # 팰린드롬 판별 및 투 포인터 확장\n",
    "    def expand(left: int, right: int)->str:\n",
    "        while left>=0 and right <=len(s) and s[left] == s[right-1]:\n",
    "            left -= 1\n",
    "            right += 1\n",
    "        return s[left+1:right-1]\n",
    "    \n",
    "    # 해당 사항이 없을 때 빠르게 리턴\n",
    "    if len(s) < 2 or s == s[::-1]:\n",
    "        return s\n",
    "    \n",
    "    result = ''\n",
    "    # 슬라이딩 윈도우 우측으로 이동\n",
    "    for i in range(len(s)-1):\n",
    "        result = max(result, expand(i, i+1), expand(i, i+2), key=len)\n",
    "    \n",
    "    return result"
   ]
  },
  {
   "cell_type": "code",
   "execution_count": null,
   "metadata": {},
   "outputs": [],
   "source": []
  }
 ],
 "metadata": {
  "kernelspec": {
   "display_name": "study",
   "language": "python",
   "name": "python3"
  },
  "language_info": {
   "codemirror_mode": {
    "name": "ipython",
    "version": 3
   },
   "file_extension": ".py",
   "mimetype": "text/x-python",
   "name": "python",
   "nbconvert_exporter": "python",
   "pygments_lexer": "ipython3",
   "version": "3.9.12"
  },
  "orig_nbformat": 4
 },
 "nbformat": 4,
 "nbformat_minor": 2
}
